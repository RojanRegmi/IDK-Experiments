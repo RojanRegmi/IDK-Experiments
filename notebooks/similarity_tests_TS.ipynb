{
 "cells": [
  {
   "cell_type": "code",
   "execution_count": 1,
   "metadata": {},
   "outputs": [],
   "source": [
    "import numpy as np\n",
    "import pandas as pd \n",
    "import matplotlib.pyplot as plt \n",
    "%matplotlib inline\n",
    "import sys\n",
    "sys.path.append('..')\n",
    "import os"
   ]
  },
  {
   "cell_type": "code",
   "execution_count": 2,
   "metadata": {},
   "outputs": [],
   "source": [
    "from similarity.IDK_Comp import IDK_Comp, IDK_Comp_att2\n",
    "from similarity.Utilities import drawIDK_T_discords\n",
    "from similarity.IDK_T import IDK_T"
   ]
  },
  {
   "cell_type": "code",
   "execution_count": 3,
   "metadata": {},
   "outputs": [],
   "source": [
    "def find_subdirectory(target_subdir, parent_dir):\n",
    "\n",
    "    \"\"\"\n",
    "       target_subdir: The file that you are looking for\n",
    "       parent_dir: The Directory where you want to search\n",
    "\n",
    "       returns\n",
    "       dataset_dir: This is all the directories inside parent_dir that have the file target_subdir\n",
    "    \"\"\"\n",
    "\n",
    "    target_dir = []\n",
    "    target_dir.append(target_subdir)\n",
    "    dataset_dir = []\n",
    "        \n",
    "    for root, dirs, files in os.walk(parent_dir):\n",
    "            \n",
    "        if target_dir == files:\n",
    "                \n",
    "            dataset_dir.append(os.path.join(root, target_subdir))\n",
    "        \n",
    "    return dataset_dir"
   ]
  },
  {
   "cell_type": "code",
   "execution_count": 4,
   "metadata": {},
   "outputs": [
    {
     "data": {
      "text/plain": [
       "['../all_approx/Version_2/approx_1/Approximation 1/test.csv',\n",
       " '../all_approx/Version_2/approx_2/Approximation 2/test.csv',\n",
       " '../all_approx/Version_2/approx_3/Approximation 2/test.csv',\n",
       " '../all_approx/Version_2/approx_4/Approximation 1/test.csv',\n",
       " '../all_approx/Version_2/approx_5/Approximation 2/test.csv',\n",
       " '../all_approx/Version_2/approx_6/Approximation6/test.csv',\n",
       " '../all_approx/Version_2/base-sine/base-sine/test.csv']"
      ]
     },
     "execution_count": 4,
     "metadata": {},
     "output_type": "execute_result"
    }
   ],
   "source": [
    "parent_dir = f'../all_approx/Version_2/'\n",
    "\n",
    "dir1 = find_subdirectory('test.csv', parent_dir)\n",
    "dir1.sort()\n",
    "dir1"
   ]
  },
  {
   "cell_type": "code",
   "execution_count": 5,
   "metadata": {},
   "outputs": [],
   "source": [
    "base_df = pd.read_csv(dir1[-1])\n",
    "app1_df = pd.read_csv(dir1[0])\n",
    "app2_df = pd.read_csv(dir1[1])\n",
    "app3_df = pd.read_csv(dir1[2])\n",
    "app4_df = pd.read_csv(dir1[3])\n",
    "app5_df = pd.read_csv(dir1[4])\n",
    "app6_df = pd.read_csv(dir1[5])"
   ]
  },
  {
   "cell_type": "code",
   "execution_count": 6,
   "metadata": {},
   "outputs": [],
   "source": [
    "def dftonp(df):\n",
    "    return df['value-0'].values.reshape(-1, 1)"
   ]
  },
  {
   "cell_type": "code",
   "execution_count": 7,
   "metadata": {},
   "outputs": [],
   "source": [
    "base_np = dftonp(base_df)\n",
    "app1_np = dftonp(app1_df)\n",
    "app2_np = dftonp(app2_df)\n",
    "app3_np = dftonp(app3_df)\n",
    "app4_np = dftonp(app4_df)\n",
    "app5_np = dftonp(app5_df)\n",
    "app6_np = dftonp(app6_df)"
   ]
  },
  {
   "cell_type": "code",
   "execution_count": 8,
   "metadata": {},
   "outputs": [],
   "source": [
    "width=500"
   ]
  },
  {
   "cell_type": "code",
   "execution_count": null,
   "metadata": {},
   "outputs": [],
   "source": [
    "similarity_score_1 = IDK_Comp(base_np, app1_np, psi1=16, width=width, psi2=2)\n",
    "similarity_score_2 = IDK_Comp(base_np, app2_np, psi1=16, width=width, psi2=2)"
   ]
  },
  {
   "cell_type": "code",
   "execution_count": null,
   "metadata": {},
   "outputs": [],
   "source": [
    "similarity_score_3 = IDK_Comp(base_np, app3_np, psi1=6, width=width, psi2=2)\n",
    "similarity_score_4 = IDK_Comp(base_np, app4_np, psi1=6, width=width, psi2=2)\n",
    "similarity_score_5 = IDK_Comp(base_np, app5_np, psi1=6, width=width, psi2=2)"
   ]
  },
  {
   "cell_type": "code",
   "execution_count": null,
   "metadata": {},
   "outputs": [],
   "source": [
    "similarity_score_6 = IDK_Comp(base_np, app6_np, psi1=6, width=width, psi2=2)"
   ]
  },
  {
   "cell_type": "code",
   "execution_count": null,
   "metadata": {},
   "outputs": [],
   "source": [
    "print(similarity_score_1)\n",
    "print(similarity_score_2)\n",
    "print(similarity_score_3)\n",
    "print(similarity_score_4)\n",
    "print(similarity_score_5)\n",
    "print(similarity_score_6)"
   ]
  },
  {
   "cell_type": "code",
   "execution_count": null,
   "metadata": {},
   "outputs": [],
   "source": [
    "mean_1 = np.mean(similarity_score_1)\n",
    "mean_2 = np.mean(similarity_score_2)\n",
    "mean_3 = np.mean(similarity_score_3)\n",
    "mean_4 = np.mean(similarity_score_4)\n",
    "mean_5 = np.mean(similarity_score_5)\n",
    "mean_6 = np.mean(similarity_score_6)"
   ]
  },
  {
   "cell_type": "code",
   "execution_count": null,
   "metadata": {},
   "outputs": [],
   "source": [
    "print(mean_1)\n",
    "print(mean_2)\n",
    "print(mean_3)\n",
    "print(mean_4)\n",
    "print(mean_5)\n",
    "print(mean_6)"
   ]
  },
  {
   "cell_type": "code",
   "execution_count": null,
   "metadata": {},
   "outputs": [],
   "source": [
    "drawIDK_T_discords(app1_np, cycle=500, idk_scores=similarity_score_1, number=10)"
   ]
  },
  {
   "cell_type": "code",
   "execution_count": null,
   "metadata": {},
   "outputs": [],
   "source": [
    "similarity = IDK_T(app1_np, psi1=16, width=500, psi2=2)"
   ]
  },
  {
   "cell_type": "code",
   "execution_count": null,
   "metadata": {},
   "outputs": [],
   "source": [
    "drawIDK_T_discords(app1_np, cycle=500, idk_scores=similarity)"
   ]
  },
  {
   "cell_type": "code",
   "execution_count": null,
   "metadata": {},
   "outputs": [],
   "source": []
  }
 ],
 "metadata": {
  "kernelspec": {
   "display_name": "Python 3",
   "language": "python",
   "name": "python3"
  },
  "language_info": {
   "codemirror_mode": {
    "name": "ipython",
    "version": 3
   },
   "file_extension": ".py",
   "mimetype": "text/x-python",
   "name": "python",
   "nbconvert_exporter": "python",
   "pygments_lexer": "ipython3",
   "version": "3.9.18"
  }
 },
 "nbformat": 4,
 "nbformat_minor": 2
}
