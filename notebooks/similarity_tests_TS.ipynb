{
 "cells": [
  {
   "cell_type": "code",
   "execution_count": 1,
   "metadata": {},
   "outputs": [],
   "source": [
    "import numpy as np\n",
    "import pandas as pd \n",
    "import matplotlib.pyplot as plt \n",
    "%matplotlib inline\n",
    "import sys\n",
    "sys.path.append('..')"
   ]
  },
  {
   "cell_type": "code",
   "execution_count": 2,
   "metadata": {},
   "outputs": [],
   "source": [
    "from similarity.IDK_Comp import IDK_Comp"
   ]
  },
  {
   "cell_type": "code",
   "execution_count": 3,
   "metadata": {},
   "outputs": [],
   "source": [
    "base_dir = f'../all_approx/base_sine/base-sine/test.csv'\n",
    "app_1_dir = f'../all_approx/approx_1/Approximation1/test.csv'\n",
    "app_2_dir = f'../all_approx/approx_2/Approximation2/test.csv'"
   ]
  },
  {
   "cell_type": "code",
   "execution_count": 4,
   "metadata": {},
   "outputs": [],
   "source": [
    "base_df = pd.read_csv(base_dir)\n",
    "app1_df = pd.read_csv(app_1_dir)\n",
    "app2_df = pd.read_csv(app_2_dir)"
   ]
  },
  {
   "cell_type": "code",
   "execution_count": 5,
   "metadata": {},
   "outputs": [],
   "source": [
    "base_np= base_df['value-0'].values.reshape(-1, 1)"
   ]
  },
  {
   "cell_type": "code",
   "execution_count": 6,
   "metadata": {},
   "outputs": [],
   "source": [
    "base_np= base_df['value-0'].values.reshape(-1, 1)\n",
    "app_1_np = app1_df['value-0'].values.reshape(-1, 1)\n",
    "app_2_np = app2_df['value-0'].values.reshape(-1, 1)"
   ]
  },
  {
   "cell_type": "code",
   "execution_count": 7,
   "metadata": {},
   "outputs": [],
   "source": [
    "similarity_score_1 = IDK_Comp(base_np, app_1_np, psi1=16, width=250, psi2=2)\n",
    "similarity_score_2 = IDK_Comp(base_np, app_2_np, psi1=16, width=250, psi2=2)"
   ]
  },
  {
   "cell_type": "code",
   "execution_count": 8,
   "metadata": {},
   "outputs": [
    {
     "name": "stdout",
     "output_type": "stream",
     "text": [
      "[0.55  0.55  0.28  0.325]\n",
      "[0.575 0.575 0.325 0.32 ]\n"
     ]
    }
   ],
   "source": [
    "print(similarity_score_1)\n",
    "print(similarity_score_2)"
   ]
  },
  {
   "cell_type": "code",
   "execution_count": 9,
   "metadata": {},
   "outputs": [],
   "source": [
    "mean_1 = np.mean(similarity_score_1)\n",
    "mean_2 = np.mean(similarity_score_2)"
   ]
  },
  {
   "cell_type": "code",
   "execution_count": 10,
   "metadata": {},
   "outputs": [
    {
     "name": "stdout",
     "output_type": "stream",
     "text": [
      "0.42625\n",
      "0.44875\n"
     ]
    }
   ],
   "source": [
    "print(mean_1)\n",
    "print(mean_2)"
   ]
  },
  {
   "cell_type": "code",
   "execution_count": 13,
   "metadata": {},
   "outputs": [],
   "source": [
    "similarity_score_3 = IDK_Comp(base_np, base_np, psi1=16, width=250, psi2=2)"
   ]
  },
  {
   "cell_type": "code",
   "execution_count": 14,
   "metadata": {},
   "outputs": [
    {
     "data": {
      "text/plain": [
       "array([0.505 , 0.505 , 0.26  , 0.2425])"
      ]
     },
     "execution_count": 14,
     "metadata": {},
     "output_type": "execute_result"
    }
   ],
   "source": [
    "similarity_score_3"
   ]
  },
  {
   "cell_type": "code",
   "execution_count": null,
   "metadata": {},
   "outputs": [],
   "source": []
  }
 ],
 "metadata": {
  "kernelspec": {
   "display_name": "Python 3",
   "language": "python",
   "name": "python3"
  },
  "language_info": {
   "codemirror_mode": {
    "name": "ipython",
    "version": 3
   },
   "file_extension": ".py",
   "mimetype": "text/x-python",
   "name": "python",
   "nbconvert_exporter": "python",
   "pygments_lexer": "ipython3",
   "version": "3.9.18"
  }
 },
 "nbformat": 4,
 "nbformat_minor": 2
}
