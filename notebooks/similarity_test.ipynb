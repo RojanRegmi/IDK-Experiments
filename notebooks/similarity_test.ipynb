{
 "cells": [
  {
   "cell_type": "code",
   "execution_count": 61,
   "metadata": {},
   "outputs": [],
   "source": [
    "import numpy as np\n",
    "import pandas as pd \n",
    "import matplotlib.pyplot as plt \n",
    "%matplotlib inline\n",
    "import sys\n",
    "sys.path.append('..')\n",
    "import os\n",
    "import random"
   ]
  },
  {
   "cell_type": "code",
   "execution_count": 62,
   "metadata": {},
   "outputs": [],
   "source": [
    "from similarity.idk_dist.IDK2 import *"
   ]
  },
  {
   "cell_type": "code",
   "execution_count": 63,
   "metadata": {},
   "outputs": [],
   "source": [
    "def find_subdirectory(target_subdir, parent_dir):\n",
    "\n",
    "    \"\"\"\n",
    "       target_subdir: The file that you are looking for\n",
    "       parent_dir: The Directory where you want to search\n",
    "\n",
    "       returns\n",
    "       dataset_dir: This is all the directories inside parent_dir that have the file target_subdir\n",
    "    \"\"\"\n",
    "\n",
    "    target_dir = []\n",
    "    target_dir.append(target_subdir)\n",
    "    dataset_dir = []\n",
    "        \n",
    "    for root, dirs, files in os.walk(parent_dir):\n",
    "            \n",
    "        if target_dir == files:\n",
    "                \n",
    "            dataset_dir.append(os.path.join(root, target_subdir))\n",
    "        \n",
    "    return dataset_dir"
   ]
  },
  {
   "cell_type": "code",
   "execution_count": 77,
   "metadata": {},
   "outputs": [
    {
     "data": {
      "text/plain": [
       "['../all_approx/Version_2/approx_1/Approximation 1/test.csv',\n",
       " '../all_approx/Version_2/approx_2/Approximation 2/test.csv',\n",
       " '../all_approx/Version_2/approx_3/Approximation 2/test.csv',\n",
       " '../all_approx/Version_2/approx_4/Approximation 1/test.csv',\n",
       " '../all_approx/Version_2/approx_5/Approximation 2/test.csv',\n",
       " '../all_approx/Version_2/approx_6/Approximation6/test.csv',\n",
       " '../all_approx/Version_2/base-sine/base-sine/test.csv']"
      ]
     },
     "execution_count": 77,
     "metadata": {},
     "output_type": "execute_result"
    }
   ],
   "source": [
    "parent_dir = f'../all_approx/Version_2/'\n",
    "\n",
    "dir1 = find_subdirectory('test.csv', parent_dir)\n",
    "dir1.sort()\n",
    "dir1"
   ]
  },
  {
   "cell_type": "code",
   "execution_count": 66,
   "metadata": {},
   "outputs": [],
   "source": [
    "base_sine = dir1[-1]\n",
    "\n",
    "df = pd.read_csv(base_sine)\n",
    "base_np = df['value-0'].values.reshape(-1, 1)"
   ]
  },
  {
   "cell_type": "code",
   "execution_count": 67,
   "metadata": {},
   "outputs": [],
   "source": [
    "ts_list = []\n",
    "ts_np = []\n",
    "\n",
    "for i in range(500):\n",
    "\n",
    "    ts_np.append(base_np)\n",
    "\n",
    "for dir in dir1:\n",
    "    df = pd.read_csv(dir)\n",
    "    a = df['value-0'].values.reshape(-1, 1)\n",
    "    ts_list.append(df)\n",
    "    ts_np.append(a)"
   ]
  },
  {
   "cell_type": "code",
   "execution_count": 68,
   "metadata": {},
   "outputs": [],
   "source": [
    "random.shuffle(ts_np)"
   ]
  },
  {
   "cell_type": "code",
   "execution_count": 73,
   "metadata": {},
   "outputs": [],
   "source": [
    "idk_score = idk_square(ts_np, psi1=16,psi2=4, t1=500, t2=500)"
   ]
  },
  {
   "cell_type": "code",
   "execution_count": 74,
   "metadata": {},
   "outputs": [
    {
     "data": {
      "text/plain": [
       "array([1.18343195e-05, 9.98027613e-01, 9.98027613e-01, 9.98027613e-01,\n",
       "       9.98027613e-01, 9.98027613e-01, 9.98027613e-01, 9.98027613e-01,\n",
       "       9.98027613e-01, 9.98027613e-01, 9.98027613e-01, 9.98027613e-01,\n",
       "       9.98027613e-01, 9.98027613e-01, 9.98027613e-01, 9.98027613e-01,\n",
       "       9.98027613e-01, 9.98027613e-01, 9.98027613e-01, 9.98027613e-01,\n",
       "       9.98027613e-01, 9.98027613e-01, 9.98027613e-01, 9.98027613e-01,\n",
       "       9.98027613e-01, 9.98027613e-01, 9.98027613e-01, 9.98027613e-01,\n",
       "       9.98027613e-01, 9.98027613e-01, 9.98027613e-01, 9.98027613e-01,\n",
       "       9.98027613e-01, 9.98027613e-01, 9.98027613e-01, 9.98027613e-01,\n",
       "       9.98027613e-01, 9.98027613e-01, 9.98027613e-01, 9.98027613e-01,\n",
       "       9.98027613e-01, 9.98027613e-01, 9.98027613e-01, 9.98027613e-01,\n",
       "       9.98027613e-01, 9.98027613e-01, 9.98027613e-01, 9.98027613e-01,\n",
       "       9.98027613e-01, 9.98027613e-01, 9.98027613e-01, 9.98027613e-01,\n",
       "       9.98027613e-01, 9.98027613e-01, 9.98027613e-01, 9.98027613e-01,\n",
       "       9.98027613e-01, 9.98027613e-01, 9.98027613e-01, 9.98027613e-01,\n",
       "       9.98027613e-01, 9.98027613e-01, 9.98027613e-01, 9.98027613e-01,\n",
       "       9.98027613e-01, 9.98027613e-01, 9.98027613e-01, 9.98027613e-01,\n",
       "       9.98027613e-01, 9.98027613e-01, 9.98027613e-01, 9.98027613e-01,\n",
       "       9.98027613e-01, 9.98027613e-01, 9.98027613e-01, 9.98027613e-01,\n",
       "       9.98027613e-01, 9.98027613e-01, 9.98027613e-01, 9.98027613e-01,\n",
       "       9.98027613e-01, 9.98027613e-01, 9.98027613e-01, 9.98027613e-01,\n",
       "       9.98027613e-01, 9.98027613e-01, 9.98027613e-01, 9.98027613e-01,\n",
       "       9.98027613e-01, 9.98027613e-01, 9.98027613e-01, 9.98027613e-01,\n",
       "       9.98027613e-01, 9.98027613e-01, 9.98027613e-01, 9.98027613e-01,\n",
       "       9.98027613e-01, 9.98027613e-01, 9.98027613e-01, 9.98027613e-01,\n",
       "       9.98027613e-01, 9.98027613e-01, 9.98027613e-01, 9.98027613e-01,\n",
       "       9.98027613e-01, 9.98027613e-01, 9.98027613e-01, 9.98027613e-01,\n",
       "       9.98027613e-01, 9.98027613e-01, 9.98027613e-01, 9.98027613e-01,\n",
       "       9.98027613e-01, 9.98027613e-01, 9.98027613e-01, 9.98027613e-01,\n",
       "       9.98027613e-01, 9.98027613e-01, 9.98027613e-01, 9.98027613e-01,\n",
       "       9.98027613e-01, 9.98027613e-01, 9.98027613e-01, 9.98027613e-01,\n",
       "       9.98027613e-01, 9.98027613e-01, 9.98027613e-01, 9.98027613e-01,\n",
       "       9.98027613e-01, 9.98027613e-01, 9.98027613e-01, 9.98027613e-01,\n",
       "       9.98027613e-01, 9.98027613e-01, 9.98027613e-01, 9.98027613e-01,\n",
       "       9.98027613e-01, 9.98027613e-01, 9.98027613e-01, 9.98027613e-01,\n",
       "       9.98027613e-01, 9.98027613e-01, 9.98027613e-01, 9.98027613e-01,\n",
       "       9.98027613e-01, 9.98027613e-01, 9.98027613e-01, 9.98027613e-01,\n",
       "       9.98027613e-01, 9.98027613e-01, 9.98027613e-01, 9.98027613e-01,\n",
       "       9.98027613e-01, 9.98027613e-01, 9.98027613e-01, 9.98027613e-01,\n",
       "       9.98027613e-01, 9.98027613e-01, 9.98027613e-01, 9.98027613e-01,\n",
       "       9.98027613e-01, 9.98027613e-01, 9.98027613e-01, 9.98027613e-01,\n",
       "       9.98027613e-01, 9.98027613e-01, 9.98027613e-01, 9.98027613e-01,\n",
       "       9.98027613e-01, 9.98027613e-01, 9.98027613e-01, 9.98027613e-01,\n",
       "       9.98027613e-01, 9.98027613e-01, 9.98027613e-01, 9.98027613e-01,\n",
       "       9.98027613e-01, 9.98027613e-01, 9.98027613e-01, 9.98027613e-01,\n",
       "       9.98027613e-01, 9.98027613e-01, 9.98027613e-01, 9.98027613e-01,\n",
       "       9.98027613e-01, 9.98027613e-01, 9.98027613e-01, 9.98027613e-01,\n",
       "       9.98027613e-01, 9.98027613e-01, 9.98027613e-01, 9.98027613e-01,\n",
       "       9.98027613e-01, 9.98027613e-01, 9.98027613e-01, 9.98027613e-01,\n",
       "       9.98027613e-01, 9.98027613e-01, 9.98027613e-01, 9.98027613e-01,\n",
       "       9.98027613e-01, 9.98027613e-01, 9.98027613e-01, 9.98027613e-01,\n",
       "       9.98027613e-01, 9.98027613e-01, 9.98027613e-01, 9.98027613e-01,\n",
       "       9.98027613e-01, 9.98027613e-01, 9.98027613e-01, 9.98027613e-01,\n",
       "       9.98027613e-01, 9.98027613e-01, 9.98027613e-01, 9.98027613e-01,\n",
       "       9.98027613e-01, 9.98027613e-01, 9.98027613e-01, 9.98027613e-01,\n",
       "       9.98027613e-01, 9.98027613e-01, 9.98027613e-01, 9.98027613e-01,\n",
       "       9.98027613e-01, 9.98027613e-01, 9.98027613e-01, 9.98027613e-01,\n",
       "       9.98027613e-01, 9.98027613e-01, 9.98027613e-01, 9.98027613e-01,\n",
       "       9.98027613e-01, 9.98027613e-01, 9.98027613e-01, 9.98027613e-01,\n",
       "       9.98027613e-01, 9.98027613e-01, 9.98027613e-01, 9.98027613e-01,\n",
       "       9.98027613e-01, 9.98027613e-01, 9.98027613e-01, 9.98027613e-01,\n",
       "       9.98027613e-01, 9.98027613e-01, 9.98027613e-01, 9.98027613e-01,\n",
       "       9.98027613e-01, 9.98027613e-01, 9.98027613e-01, 9.98027613e-01,\n",
       "       9.98027613e-01, 9.98027613e-01, 9.98027613e-01, 9.98027613e-01,\n",
       "       9.98027613e-01, 9.98027613e-01, 9.98027613e-01, 9.98027613e-01,\n",
       "       9.98027613e-01, 9.98027613e-01, 9.98027613e-01, 9.98027613e-01,\n",
       "       9.98027613e-01, 9.98027613e-01, 9.98027613e-01, 9.98027613e-01,\n",
       "       9.98027613e-01, 9.98027613e-01, 9.98027613e-01, 9.98027613e-01,\n",
       "       9.98027613e-01, 9.98027613e-01, 9.98027613e-01, 9.98027613e-01,\n",
       "       9.98027613e-01, 9.98027613e-01, 9.98027613e-01, 9.98027613e-01,\n",
       "       9.98027613e-01, 9.98027613e-01, 9.98027613e-01, 9.98027613e-01,\n",
       "       9.98027613e-01, 9.98027613e-01, 9.98027613e-01, 9.98027613e-01,\n",
       "       9.98027613e-01, 9.98027613e-01, 9.98027613e-01, 9.98027613e-01,\n",
       "       9.98027613e-01, 9.98027613e-01, 9.98027613e-01, 9.98027613e-01,\n",
       "       9.98027613e-01, 9.98027613e-01, 9.98027613e-01, 9.98027613e-01,\n",
       "       9.98027613e-01, 9.98027613e-01, 9.98027613e-01, 9.98027613e-01,\n",
       "       9.98027613e-01, 9.98027613e-01, 9.98027613e-01, 9.98027613e-01,\n",
       "       9.98027613e-01, 9.98027613e-01, 9.98027613e-01, 9.98027613e-01,\n",
       "       9.98027613e-01, 9.98027613e-01, 9.98027613e-01, 9.98027613e-01,\n",
       "       9.98027613e-01, 9.98027613e-01, 9.98027613e-01, 9.98027613e-01,\n",
       "       9.98027613e-01, 9.98027613e-01, 9.98027613e-01, 9.98027613e-01,\n",
       "       9.98027613e-01, 9.98027613e-01, 9.98027613e-01, 9.98027613e-01,\n",
       "       9.98027613e-01, 9.98027613e-01, 9.98027613e-01, 9.98027613e-01,\n",
       "       9.98027613e-01, 9.98027613e-01, 9.98027613e-01, 9.98027613e-01,\n",
       "       9.98027613e-01, 9.98027613e-01, 9.98027613e-01, 9.98027613e-01,\n",
       "       9.98027613e-01, 9.98027613e-01, 9.98027613e-01, 9.98027613e-01,\n",
       "       9.98027613e-01, 9.98027613e-01, 9.98027613e-01, 9.98027613e-01,\n",
       "       9.98027613e-01, 9.98027613e-01, 9.98027613e-01, 9.98027613e-01,\n",
       "       9.98027613e-01, 9.98027613e-01, 9.98027613e-01, 9.98027613e-01,\n",
       "       9.98027613e-01, 9.98027613e-01, 9.98027613e-01, 9.98027613e-01,\n",
       "       9.98027613e-01, 9.98027613e-01, 9.98027613e-01, 9.98027613e-01,\n",
       "       9.98027613e-01, 9.98027613e-01, 9.98027613e-01, 9.98027613e-01,\n",
       "       9.98027613e-01, 9.98027613e-01, 9.98027613e-01, 9.98027613e-01,\n",
       "       9.98027613e-01, 9.98027613e-01, 9.98027613e-01, 9.98027613e-01,\n",
       "       9.98027613e-01, 9.98027613e-01, 9.98027613e-01, 9.98027613e-01,\n",
       "       9.98027613e-01, 9.98027613e-01, 9.98027613e-01, 9.98027613e-01,\n",
       "       9.98027613e-01, 9.98027613e-01, 9.98027613e-01, 9.98027613e-01,\n",
       "       9.98027613e-01, 9.98027613e-01, 9.98027613e-01, 9.98027613e-01,\n",
       "       9.98027613e-01, 9.98027613e-01, 9.98027613e-01, 9.98027613e-01,\n",
       "       9.98027613e-01, 9.98027613e-01, 9.98027613e-01, 9.98027613e-01,\n",
       "       9.98027613e-01, 9.98027613e-01, 9.98027613e-01, 9.98027613e-01,\n",
       "       9.98027613e-01, 9.98027613e-01, 9.98027613e-01, 9.98027613e-01,\n",
       "       9.98027613e-01, 9.98027613e-01, 9.98027613e-01, 9.98027613e-01,\n",
       "       9.98027613e-01, 9.98027613e-01, 9.98027613e-01, 9.98027613e-01,\n",
       "       9.98027613e-01, 9.98027613e-01, 9.98027613e-01, 9.98027613e-01,\n",
       "       9.98027613e-01, 9.98027613e-01, 9.98027613e-01, 9.98027613e-01,\n",
       "       9.98027613e-01, 9.98027613e-01, 9.98027613e-01, 9.98027613e-01,\n",
       "       9.98027613e-01, 9.98027613e-01, 9.98027613e-01, 9.98027613e-01,\n",
       "       9.98027613e-01, 9.98027613e-01, 9.98027613e-01, 9.98027613e-01,\n",
       "       9.98027613e-01, 9.98027613e-01, 9.98027613e-01, 9.98027613e-01,\n",
       "       9.98027613e-01, 9.98027613e-01, 9.98027613e-01, 9.98027613e-01,\n",
       "       9.98027613e-01, 9.98027613e-01, 9.98027613e-01, 9.98027613e-01,\n",
       "       9.98027613e-01, 9.98027613e-01, 9.98027613e-01, 9.98027613e-01,\n",
       "       9.98027613e-01, 9.98027613e-01, 9.98027613e-01, 9.98027613e-01,\n",
       "       9.98027613e-01, 9.98027613e-01, 9.98027613e-01, 9.98027613e-01,\n",
       "       9.98027613e-01, 9.98027613e-01, 9.98027613e-01, 9.98027613e-01,\n",
       "       9.98027613e-01, 9.98027613e-01, 9.98027613e-01, 9.98027613e-01,\n",
       "       9.98027613e-01, 9.98027613e-01, 9.98027613e-01, 9.98027613e-01,\n",
       "       9.98027613e-01, 9.98027613e-01, 9.98027613e-01, 9.98027613e-01,\n",
       "       9.98027613e-01, 9.98027613e-01, 9.98027613e-01, 9.98027613e-01,\n",
       "       9.98027613e-01, 9.98027613e-01, 9.98027613e-01, 9.98027613e-01,\n",
       "       9.98027613e-01, 9.98027613e-01, 9.98027613e-01, 9.98027613e-01,\n",
       "       9.98027613e-01, 9.98027613e-01, 9.98027613e-01, 9.98027613e-01,\n",
       "       9.98027613e-01, 9.98027613e-01, 9.98027613e-01, 9.98027613e-01,\n",
       "       9.98027613e-01, 9.98027613e-01, 9.98027613e-01, 9.98027613e-01,\n",
       "       9.98027613e-01, 9.98027613e-01, 9.98027613e-01, 9.98027613e-01,\n",
       "       9.98027613e-01, 9.98027613e-01, 9.98027613e-01])"
      ]
     },
     "execution_count": 74,
     "metadata": {},
     "output_type": "execute_result"
    }
   ],
   "source": [
    "idk_score"
   ]
  },
  {
   "cell_type": "code",
   "execution_count": 75,
   "metadata": {},
   "outputs": [],
   "source": [
    "idk_score = np.append(idk_score, 0.2)"
   ]
  },
  {
   "cell_type": "code",
   "execution_count": 76,
   "metadata": {},
   "outputs": [
    {
     "data": {
      "image/png": "[encoded data removed]",
      "text/plain": [
       "<Figure size 640x480 with 1 Axes>"
      ]
     },
     "metadata": {},
     "output_type": "display_data"
    }
   ],
   "source": [
    "plt.plot(idk_score)\n",
    "plt.show()"
   ]
  },
  {
   "cell_type": "code",
   "execution_count": null,
   "metadata": {},
   "outputs": [],
   "source": [
    "def plotter(df: pd.DataFrame, title: str):\n",
    "\n",
    "    plt.figure(figsize=(20, 8))\n",
    "    \n",
    "    plt.plot(df['timestamp'], df['value-0'], label='Plot')\n",
    "    plt.xlabel('Time Stamp')\n",
    "    plt.ylabel('Amplitude')\n",
    "    plt.title(title)\n",
    "    plt.show()"
   ]
  },
  {
   "cell_type": "code",
   "execution_count": null,
   "metadata": {},
   "outputs": [],
   "source": [
    "def plotter_np(data: np.array, title: str):\n",
    "\n",
    "    plt.figure(figsize=(20, 8))\n",
    "\n",
    "    plt.plot(data)\n",
    "    plt.title(title)\n",
    "    plt.show()"
   ]
  },
  {
   "cell_type": "code",
   "execution_count": null,
   "metadata": {},
   "outputs": [],
   "source": [
    "for i, data in enumerate(ts_list):\n",
    "\n",
    "    plotter(data, title=f'Figure {i+1}')"
   ]
  },
  {
   "cell_type": "code",
   "execution_count": null,
   "metadata": {},
   "outputs": [],
   "source": [
    "for i, data in enumerate(ts_np):\n",
    "\n",
    "    plotter_np(data, title=f'Figure {i+1}')"
   ]
  }
 ],
 "metadata": {
  "kernelspec": {
   "display_name": "Python 3",
   "language": "python",
   "name": "python3"
  },
  "language_info": {
   "codemirror_mode": {
    "name": "ipython",
    "version": 3
   },
   "file_extension": ".py",
   "mimetype": "text/x-python",
   "name": "python",
   "nbconvert_exporter": "python",
   "pygments_lexer": "ipython3",
   "version": "3.9.18"
  }
 },
 "nbformat": 4,
 "nbformat_minor": 2
}
