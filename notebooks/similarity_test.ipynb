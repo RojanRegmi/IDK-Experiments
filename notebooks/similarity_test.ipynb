{
 "cells": [
  {
   "cell_type": "code",
   "execution_count": 1,
   "metadata": {},
   "outputs": [],
   "source": [
    "import numpy as np\n",
    "import pandas as pd \n",
    "import matplotlib.pyplot as plt \n",
    "%matplotlib inline\n",
    "import sys\n",
    "sys.path.append('..')\n",
    "import os"
   ]
  },
  {
   "cell_type": "code",
   "execution_count": 2,
   "metadata": {},
   "outputs": [],
   "source": [
    "from similarity.idk_dist.IDK2 import *"
   ]
  },
  {
   "cell_type": "code",
   "execution_count": 3,
   "metadata": {},
   "outputs": [],
   "source": [
    "def find_subdirectory(target_subdir, parent_dir):\n",
    "\n",
    "    \"\"\"\n",
    "       target_subdir: The file that you are looking for\n",
    "       parent_dir: The Directory where you want to search\n",
    "\n",
    "       returns\n",
    "       dataset_dir: This is all the directories inside parent_dir that have the file target_subdir\n",
    "    \"\"\"\n",
    "\n",
    "    target_dir = []\n",
    "    target_dir.append(target_subdir)\n",
    "    dataset_dir = []\n",
    "        \n",
    "    for root, dirs, files in os.walk(parent_dir):\n",
    "            \n",
    "        if target_dir == files:\n",
    "                \n",
    "            dataset_dir.append(os.path.join(root, target_subdir))\n",
    "        \n",
    "    return dataset_dir"
   ]
  },
  {
   "cell_type": "code",
   "execution_count": 4,
   "metadata": {},
   "outputs": [],
   "source": [
    "parent_dir = f'../all_approx/Version_2/'"
   ]
  },
  {
   "cell_type": "code",
   "execution_count": 8,
   "metadata": {},
   "outputs": [],
   "source": [
    "dir1 = find_subdirectory('test.csv', parent_dir)\n",
    "dir1.sort()"
   ]
  },
  {
   "cell_type": "code",
   "execution_count": 12,
   "metadata": {},
   "outputs": [],
   "source": [
    "ts_list = []\n",
    "ts_np = []\n",
    "\n",
    "for dir in dir1:\n",
    "    df = pd.read_csv(dir)\n",
    "    a = df['value-0'].values.reshape(-1, 1)\n",
    "    ts_list.append(df)\n",
    "    ts_np.append(a)"
   ]
  },
  {
   "cell_type": "code",
   "execution_count": 13,
   "metadata": {},
   "outputs": [],
   "source": [
    "idk_score = idk_square(ts_np, psi1=6,psi2=2, t1=1000, t2=1000)"
   ]
  },
  {
   "cell_type": "code",
   "execution_count": 14,
   "metadata": {},
   "outputs": [
    {
     "data": {
      "text/plain": [
       "array([0.04128571, 0.85714286, 0.85714286, 0.85714286, 0.85714286,\n",
       "       0.85714286, 0.85714286])"
      ]
     },
     "execution_count": 14,
     "metadata": {},
     "output_type": "execute_result"
    }
   ],
   "source": [
    "idk_score"
   ]
  },
  {
   "cell_type": "code",
   "execution_count": null,
   "metadata": {},
   "outputs": [],
   "source": [
    "def plotter(df: pd.DataFrame, title: str):\n",
    "\n",
    "    plt.figure(figsize=(20, 8))\n",
    "    \n",
    "    plt.plot(df['timestamp'], df['value-0'], label='Plot')\n",
    "    plt.xlabel('Time Stamp')\n",
    "    plt.ylabel('Amplitude')\n",
    "    plt.title(title)\n",
    "    plt.show()"
   ]
  },
  {
   "cell_type": "code",
   "execution_count": null,
   "metadata": {},
   "outputs": [],
   "source": [
    "def plotter_np(data: np.array, title: str):\n",
    "\n",
    "    plt.figure(figsize=(20, 8))\n",
    "\n",
    "    plt.plot(data)\n",
    "    plt.title(title)\n",
    "    plt.show()"
   ]
  },
  {
   "cell_type": "code",
   "execution_count": null,
   "metadata": {},
   "outputs": [],
   "source": [
    "for i, data in enumerate(ts_list):\n",
    "\n",
    "    plotter(data, title=f'Figure {i+1}')"
   ]
  },
  {
   "cell_type": "code",
   "execution_count": null,
   "metadata": {},
   "outputs": [],
   "source": [
    "for i, data in enumerate(ts_np):\n",
    "\n",
    "    plotter_np(data, title=f'Figure {i+1}')"
   ]
  }
 ],
 "metadata": {
  "kernelspec": {
   "display_name": "Python 3",
   "language": "python",
   "name": "python3"
  },
  "language_info": {
   "codemirror_mode": {
    "name": "ipython",
    "version": 3
   },
   "file_extension": ".py",
   "mimetype": "text/x-python",
   "name": "python",
   "nbconvert_exporter": "python",
   "pygments_lexer": "ipython3",
   "version": "3.9.18"
  }
 },
 "nbformat": 4,
 "nbformat_minor": 2
}
